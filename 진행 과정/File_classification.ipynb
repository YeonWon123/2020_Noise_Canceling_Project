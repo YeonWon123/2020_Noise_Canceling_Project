{
 "cells": [
  {
   "cell_type": "code",
   "execution_count": 72,
   "metadata": {},
   "outputs": [],
   "source": [
    "import os\n",
    "from glob import glob"
   ]
  },
  {
   "cell_type": "code",
   "execution_count": 101,
   "metadata": {},
   "outputs": [],
   "source": [
    "#class를 폴더를 바꿔가며 추출한다\n",
    "#class를 바꾼다\n",
    "\n",
    "class_number = 0\n",
    "fold_number = 1\n",
    "c = [0,1,2,3,4,5,6,7,8,9]\n",
    "f = [1,2,3,4,5,6,7,8,9,10]\n",
    "\n",
    "#address가 file\n",
    "for class_number in c:\n",
    "    i = 1\n",
    "    for fold_number in f:\n",
    "        #파일주소 지정\n",
    "        address = 'C:/Users/wallm/Downloads/500970_928025_bundle_archive/fold'+str(fold_number)+'/*-'+str(class_number)+'-*-*.wav'                                                                                         \n",
    "        #for문을 돌 파일주소 지정\n",
    "        file_names = glob(address) #파일주소에서 이름만 빼오기\n",
    "        file_path = 'C:/Users/wallm/Downloads/500970_928025_bundle_archive/fold'+str(fold_number)  #폴더번호change\n",
    "        dst_path = 'C:/Users/wallm/OneDrive/바탕 화면/'+str(class_number)\n",
    "        \n",
    "        for name in file_names:\n",
    "            src = os.path.join(file_path, name) #불러올 파일 주소\n",
    "            dst = str(class_number)+'-'+ str(i) + '.wav'\n",
    "            dst = os.path.join(dst_path, dst)   #보낼 파일 주소\n",
    "            os.rename(src, dst)\n",
    "            i+=1\n",
    "        \n",
    "        fold_number+=1\n",
    "class_number+=1"
   ]
  },
  {
   "cell_type": "code",
   "execution_count": null,
   "metadata": {},
   "outputs": [],
   "source": []
  }
 ],
 "metadata": {
  "kernelspec": {
   "display_name": "Python 3",
   "language": "python",
   "name": "python3"
  },
  "language_info": {
   "codemirror_mode": {
    "name": "ipython",
    "version": 3
   },
   "file_extension": ".py",
   "mimetype": "text/x-python",
   "name": "python",
   "nbconvert_exporter": "python",
   "pygments_lexer": "ipython3",
   "version": "3.7.3"
  }
 },
 "nbformat": 4,
 "nbformat_minor": 2
}
